#Reference for Code : http://scikit-image.org/docs/dev/auto_examples/features_detection/plot_hog.html

import matplotlib.pyplot as plt
import cv2
import numpy as np
from skimage.feature import hog
from skimage import data, exposure

#Reference for API Info: http://scikit-image.org/docs/dev/api/skimage.feature.html?highlight=hog#skimage.feature.hog

#orientations : Number of orientation bins.

#pixels_per_cell : 2-tuple (int, int), optional

#cells_per_block : 2-tuple (int, int), optional

#block_norm : str {‘L1’, ‘L1-sqrt’, ‘L2’, ‘L2-Hys’}, optional
#Block normalization method:
#L1
#Normalization using L1-norm. (default)

#L1-sqrt
#Normalization using L1-norm, followed by square root.

#L2
#Normalization using L2-norm.

#L2-Hys
#Normalization using L2-norm, followed by limiting the maximum values to 0.2 (Hys stands for hysteresis) and renormalization using L2-norm. For details, see [3], [4].

#transform_sqrt : bool, optional
#Apply power law compression to normalize the image before processing.

#feature_vector : bool, optional
#Return the data as a feature vector by calling .ravel() on the result just before returning.

#multichannel : boolean, optional
#If True, the last image dimension is considered as a color channel, otherwise as spatial.

#Returns:	
#out : (n_blocks_row, n_blocks_col, n_cells_row, n_cells_col, n_orient) ndarray
#HOG descriptor for the image. If feature_vector is True, a 1D (flattened) array is returned.

#hog_image : (M, N) ndarray, optional
#A visualisation of the HOG image. Only provided if visualize is True.

from skimage import color

# Load the image into a datastructure
image = cv2.imread('D:\Embedded\ML\IProject\HoG_Example2.png')

#Resize the image - for better understanding interms of number of blocks into which it is divided
image = cv2.resize(image,(256,512))

#Convert the image to grayscale
image = color.rgb2gray(image)

#Calculate Histogram by dividing the whole image into 8*8 blocks.
#Each of this block would be described in a 9 bin histogram.
(H,hogImage) = hog(image, orientations=9, pixels_per_cell=(8,8),
cells_per_block=(1,1),block_norm = 'L2-Hys',visualise=True)


#Plot the histogram into subplots in the input image
fig, (ax1, ax2) = plt.subplots(1,2, figsize=(8,8), sharex=True, sharey=True)

ax1.axis('off')
ax1.imshow(image, cmap=plt.cm.gray)
ax1.set_title('Input image')

hog_image_rescaled = exposure.rescale_intensity(hogImage, in_range=(0, 255))

ax2.axis('off')
ax2.imshow(hog_image_rescaled, cmap=plt.cm.gray)
ax2.set_title('Histogram of Oriented Gradients')
plt.show()



#Reference for Code : http://scikit-image.org/docs/dev/auto_examples/features_detection/plot_hog.html
